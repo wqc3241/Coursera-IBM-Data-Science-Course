{
 "cells": [
  {
   "cell_type": "markdown",
   "metadata": {},
   "source": [
    "# Capstone Project Week 4-5"
   ]
  },
  {
   "cell_type": "markdown",
   "metadata": {},
   "source": [
    "## Introduction\n",
    "\n",
    "In this project, I will focus on analysis the distribution of business location in LA vs NY. Both cities are popular cities in the US. But one locate on west coast and one on east coast. In addition, although both cities are huge, the lifestyle are different for the people in these two cities. So I want to analysis how businesses locate in both cities and what type of business are popular in these two cities. Especially in downtown area."
   ]
  },
  {
   "cell_type": "markdown",
   "metadata": {},
   "source": [
    "## Data\n",
    "For this project, I'm going to collect all businesses data from foursquare for both cities. Then clustering them in to different groups and generate a map with locations of those business. So I know where are the business locate at and what type of business take the most effort in the city. "
   ]
  },
  {
   "cell_type": "code",
   "execution_count": null,
   "metadata": {},
   "outputs": [],
   "source": []
  }
 ],
 "metadata": {
  "kernelspec": {
   "display_name": "Python 3",
   "language": "python",
   "name": "python3"
  },
  "language_info": {
   "codemirror_mode": {
    "name": "ipython",
    "version": 3
   },
   "file_extension": ".py",
   "mimetype": "text/x-python",
   "name": "python",
   "nbconvert_exporter": "python",
   "pygments_lexer": "ipython3",
   "version": "3.8.3"
  }
 },
 "nbformat": 4,
 "nbformat_minor": 4
}
